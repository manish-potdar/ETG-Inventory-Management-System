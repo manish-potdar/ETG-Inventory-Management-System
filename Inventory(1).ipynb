{
 "cells": [
  {
   "cell_type": "code",
   "execution_count": 1,
   "metadata": {},
   "outputs": [],
   "source": [
    "import json"
   ]
  },
  {
   "cell_type": "code",
   "execution_count": 2,
   "metadata": {},
   "outputs": [],
   "source": [
    "Record={'Fruits':{'101':{'Name':'Bananas','quantity':100,'price':20,'unit':'per_dozen'},\n",
    "                  '102':{'Name':'Apples','quantity':150,'price':50,'unit':'per_kg'},\n",
    "                  '103':{'Name':'Grapes','quantity':70,'price':20,'unit':'per_kg'},\n",
    "                  '104':{'Name':'Oranges','quantity':200,'price':25,'unit':'per_kg'},\n",
    "                  '105':{'Name':'Pineapple','quantity':50,'price':20,'unit':'per_piece'}\n",
    "                 },\n",
    "        'Vegetables':{'201':{'Name':'Potatoes','quantity':200,'price':20,'unit':'per_kg'},\n",
    "                      '202':{'Name':'Tomatoes','quantity':200,'price':15,'unit':'per_kg'},\n",
    "                      '203':{'Name':'Onions','quantity':200,'price':30,'unit':'per_kg'},\n",
    "                      '204':{'Name':'Carrots','quantity':100,'price':25,'unit':'per_kg'},\n",
    "                      '205':{'Name':'Garlic','quantity':100,'price':30,'unit':'per_kg'}\n",
    "                    },\n",
    "        'flour':{'301':{'Name':'Whole Wheat flour','quantity':500,'price':40,'unit':'per_kg'},\n",
    "                 '302':{'Name':'Barley flour','quantity':300,'price':50,'unit':'per_kg'},\n",
    "                 '303':{'Name':'Jawar flour','quantity':500,'price':50,'unit':'per_kg'},\n",
    "                 '304':{'Name':'Rice','quantity':500,'price':50,'unit':'per_kg'},\n",
    "                 '305':{'Name':'Bajara flour','quantity':200,'price':45,'unit':'per_kg'},\n",
    "                },\n",
    "        'Condiments-spices':{'401':{'Name':'Salt','quantity':200,'price':15,'unit':'per_kg'},\n",
    "                             '402':{'Name':'Sugar','quantity':250,'price':40,'unit':'per_kg'},\n",
    "                             '403':{'Name':'Pepper','quantity':100,'price':35,'unit':'per_kg'},\n",
    "                             '404':{'Name':'Ketchup','quantity':200,'price':70,'unit':'per_kg'},\n",
    "                             '405':{'Name':'Mayonnaise','quantity':150,'price':100,'unit':'per_kg'},\n",
    "                            },\n",
    "        'Fish-Shelfish':{'501':{'Name':'Shrimp','quantity':200,'price':100,'unit':'per_kg'},\n",
    "                         '502':{'Name':'Crab','quantity':200,'price':120,'unit':'per_kg'},\n",
    "                         '503':{'Name':'Clams','quantity':200,'price':150,'unit':'per_kg'},\n",
    "                         '504':{'Name':'Tuna','quantity':250,'price':80,'unit':'per_kg'},\n",
    "                         '505':{'Name':'Salmon','quantity':150,'price':130,'unit':'per_kg'},\n",
    "                        },\n",
    "        'Baverages':{'601':{'Name':'Water','quantity':300,'price':20,'unit':'per_Bottle'},\n",
    "                     '602':{'Name':'Milk','quantity':200,'price':50,'unit':'per_Liter'},\n",
    "                     '603':{'Name':'Soda','quantity':250,'price':40,'unit':'per_Bottle 500ml'},\n",
    "                     '604':{'Name':'Beer','quantity':300,'price':100,'unit':'per_Bottle 900ml'},\n",
    "                     '605':{'Name':'Oil','quantity':250,'price':150,'unit':'per_Liter'},\n",
    "                    }\n",
    "}\n",
    "\n",
    "\n",
    "sales={}"
   ]
  },
  {
   "cell_type": "markdown",
   "metadata": {},
   "source": [
    " "
   ]
  },
  {
   "cell_type": "markdown",
   "metadata": {},
   "source": [
    " "
   ]
  },
  {
   "cell_type": "code",
   "execution_count": 3,
   "metadata": {},
   "outputs": [],
   "source": [
    "rcd = json.dumps(Record)\n",
    "sl = json.dumps(sales)\n",
    "\n",
    "fd=open('Records.json','w')\n",
    "fd.write(rcd)\n",
    "fd.close()\n",
    "\n",
    "fd=open('Sales.json','w')\n",
    "fd.write(sl)\n",
    "fd.close()"
   ]
  },
  {
   "cell_type": "code",
   "execution_count": 4,
   "metadata": {},
   "outputs": [
    {
     "data": {
      "text/plain": [
       "{'Fruits': {'101': {'Name': 'Bananas',\n",
       "   'quantity': 100,\n",
       "   'price': 20,\n",
       "   'unit': 'per_dozen'},\n",
       "  '102': {'Name': 'Apples', 'quantity': 150, 'price': 50, 'unit': 'per_kg'},\n",
       "  '103': {'Name': 'Grapes', 'quantity': 70, 'price': 20, 'unit': 'per_kg'},\n",
       "  '104': {'Name': 'Oranges', 'quantity': 200, 'price': 25, 'unit': 'per_kg'},\n",
       "  '105': {'Name': 'Pineapple',\n",
       "   'quantity': 50,\n",
       "   'price': 20,\n",
       "   'unit': 'per_piece'}},\n",
       " 'Vegetables': {'201': {'Name': 'Potatoes',\n",
       "   'quantity': 200,\n",
       "   'price': 20,\n",
       "   'unit': 'per_kg'},\n",
       "  '202': {'Name': 'Tomatoes', 'quantity': 200, 'price': 15, 'unit': 'per_kg'},\n",
       "  '203': {'Name': 'Onions', 'quantity': 200, 'price': 30, 'unit': 'per_kg'},\n",
       "  '204': {'Name': 'Carrots', 'quantity': 100, 'price': 25, 'unit': 'per_kg'},\n",
       "  '205': {'Name': 'Garlic', 'quantity': 100, 'price': 30, 'unit': 'per_kg'}},\n",
       " 'flour': {'301': {'Name': 'Whole Wheat flour',\n",
       "   'quantity': 500,\n",
       "   'price': 40,\n",
       "   'unit': 'per_kg'},\n",
       "  '302': {'Name': 'Barley flour',\n",
       "   'quantity': 300,\n",
       "   'price': 50,\n",
       "   'unit': 'per_kg'},\n",
       "  '303': {'Name': 'Jawar flour',\n",
       "   'quantity': 500,\n",
       "   'price': 50,\n",
       "   'unit': 'per_kg'},\n",
       "  '304': {'Name': 'Rice', 'quantity': 500, 'price': 50, 'unit': 'per_kg'},\n",
       "  '305': {'Name': 'Bajara flour',\n",
       "   'quantity': 200,\n",
       "   'price': 45,\n",
       "   'unit': 'per_kg'}},\n",
       " 'Condiments-spices': {'401': {'Name': 'Salt',\n",
       "   'quantity': 200,\n",
       "   'price': 15,\n",
       "   'unit': 'per_kg'},\n",
       "  '402': {'Name': 'Sugar', 'quantity': 250, 'price': 40, 'unit': 'per_kg'},\n",
       "  '403': {'Name': 'Pepper', 'quantity': 100, 'price': 35, 'unit': 'per_kg'},\n",
       "  '404': {'Name': 'Ketchup', 'quantity': 200, 'price': 70, 'unit': 'per_kg'},\n",
       "  '405': {'Name': 'Mayonnaise',\n",
       "   'quantity': 150,\n",
       "   'price': 100,\n",
       "   'unit': 'per_kg'}},\n",
       " 'Fish-Shelfish': {'501': {'Name': 'Shrimp',\n",
       "   'quantity': 200,\n",
       "   'price': 100,\n",
       "   'unit': 'per_kg'},\n",
       "  '502': {'Name': 'Crab', 'quantity': 200, 'price': 120, 'unit': 'per_kg'},\n",
       "  '503': {'Name': 'Clams', 'quantity': 200, 'price': 150, 'unit': 'per_kg'},\n",
       "  '504': {'Name': 'Tuna', 'quantity': 250, 'price': 80, 'unit': 'per_kg'},\n",
       "  '505': {'Name': 'Salmon', 'quantity': 150, 'price': 130, 'unit': 'per_kg'}},\n",
       " 'Baverages': {'601': {'Name': 'Water',\n",
       "   'quantity': 300,\n",
       "   'price': 20,\n",
       "   'unit': 'per_Bottle'},\n",
       "  '602': {'Name': 'Milk', 'quantity': 200, 'price': 50, 'unit': 'per_Liter'},\n",
       "  '603': {'Name': 'Soda',\n",
       "   'quantity': 250,\n",
       "   'price': 40,\n",
       "   'unit': 'per_Bottle 500ml'},\n",
       "  '604': {'Name': 'Beer',\n",
       "   'quantity': 300,\n",
       "   'price': 100,\n",
       "   'unit': 'per_Bottle 900ml'},\n",
       "  '605': {'Name': 'Oil', 'quantity': 250, 'price': 150, 'unit': 'per_Liter'}}}"
      ]
     },
     "execution_count": 4,
     "metadata": {},
     "output_type": "execute_result"
    }
   ],
   "source": [
    "Record"
   ]
  },
  {
   "cell_type": "code",
   "execution_count": 5,
   "metadata": {},
   "outputs": [
    {
     "data": {
      "text/plain": [
       "{}"
      ]
     },
     "execution_count": 5,
     "metadata": {},
     "output_type": "execute_result"
    }
   ],
   "source": [
    "sales"
   ]
  },
  {
   "cell_type": "markdown",
   "metadata": {},
   "source": [
    " "
   ]
  },
  {
   "cell_type": "code",
   "execution_count": null,
   "metadata": {},
   "outputs": [],
   "source": []
  }
 ],
 "metadata": {
  "kernelspec": {
   "display_name": "Python 3",
   "language": "python",
   "name": "python3"
  },
  "language_info": {
   "codemirror_mode": {
    "name": "ipython",
    "version": 3
   },
   "file_extension": ".py",
   "mimetype": "text/x-python",
   "name": "python",
   "nbconvert_exporter": "python",
   "pygments_lexer": "ipython3",
   "version": "3.7.6"
  }
 },
 "nbformat": 4,
 "nbformat_minor": 4
}
